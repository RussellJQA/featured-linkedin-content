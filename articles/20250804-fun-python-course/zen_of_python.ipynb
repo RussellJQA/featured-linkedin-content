{
 "cells": [
  {
   "cell_type": "markdown",
   "id": "c22012e1",
   "metadata": {},
   "source": [
    "<div style=\"text-align: center; font-size:48px; color: #4EBC7F;\">Free, Fun, AI-Focused Introduction to Python?</div>"
   ]
  },
  {
   "cell_type": "code",
   "execution_count": 1,
   "id": "0db49e5c",
   "metadata": {},
   "outputs": [
    {
     "name": "stdout",
     "output_type": "stream",
     "text": [
      "Requirement already satisfied: aisetup in d:\\dev\\my-linkedin-posts\\.venv\\lib\\site-packages (0.1.9)\n",
      "Requirement already satisfied: folium<0.18,>=0.17 in d:\\dev\\my-linkedin-posts\\.venv\\lib\\site-packages (from aisetup) (0.17.0)\n",
      "Requirement already satisfied: ipython<9.0,>=8.18 in d:\\dev\\my-linkedin-posts\\.venv\\lib\\site-packages (from aisetup) (8.37.0)\n",
      "Requirement already satisfied: ipywidgets<9.0.0,>=8.1.3 in d:\\dev\\my-linkedin-posts\\.venv\\lib\\site-packages (from aisetup) (8.1.7)\n",
      "Requirement already satisfied: matplotlib<4.0.0,>=3.9.2 in d:\\dev\\my-linkedin-posts\\.venv\\lib\\site-packages (from aisetup) (3.10.3)\n",
      "Requirement already satisfied: openai<2.0,>=1.42 in d:\\dev\\my-linkedin-posts\\.venv\\lib\\site-packages (from aisetup) (1.93.2)\n",
      "Requirement already satisfied: pandas<3.0,>=2.2 in d:\\dev\\my-linkedin-posts\\.venv\\lib\\site-packages (from aisetup) (2.3.1)\n",
      "Requirement already satisfied: python-dotenv<2.0.0,>=1.0.1 in d:\\dev\\my-linkedin-posts\\.venv\\lib\\site-packages (from aisetup) (1.1.1)\n",
      "Requirement already satisfied: requests<3.0.0,>=2.32.3 in d:\\dev\\my-linkedin-posts\\.venv\\lib\\site-packages (from aisetup) (2.32.4)\n",
      "Requirement already satisfied: branca>=0.6.0 in d:\\dev\\my-linkedin-posts\\.venv\\lib\\site-packages (from folium<0.18,>=0.17->aisetup) (0.8.1)\n",
      "Requirement already satisfied: jinja2>=2.9 in d:\\dev\\my-linkedin-posts\\.venv\\lib\\site-packages (from folium<0.18,>=0.17->aisetup) (3.1.6)\n",
      "Requirement already satisfied: numpy in d:\\dev\\my-linkedin-posts\\.venv\\lib\\site-packages (from folium<0.18,>=0.17->aisetup) (2.3.1)\n",
      "Requirement already satisfied: xyzservices in d:\\dev\\my-linkedin-posts\\.venv\\lib\\site-packages (from folium<0.18,>=0.17->aisetup) (2025.4.0)\n",
      "Requirement already satisfied: colorama in d:\\dev\\my-linkedin-posts\\.venv\\lib\\site-packages (from ipython<9.0,>=8.18->aisetup) (0.4.6)\n",
      "Requirement already satisfied: decorator in d:\\dev\\my-linkedin-posts\\.venv\\lib\\site-packages (from ipython<9.0,>=8.18->aisetup) (5.2.1)\n",
      "Requirement already satisfied: jedi>=0.16 in d:\\dev\\my-linkedin-posts\\.venv\\lib\\site-packages (from ipython<9.0,>=8.18->aisetup) (0.19.2)\n",
      "Requirement already satisfied: matplotlib-inline in d:\\dev\\my-linkedin-posts\\.venv\\lib\\site-packages (from ipython<9.0,>=8.18->aisetup) (0.1.7)\n",
      "Requirement already satisfied: prompt_toolkit<3.1.0,>=3.0.41 in d:\\dev\\my-linkedin-posts\\.venv\\lib\\site-packages (from ipython<9.0,>=8.18->aisetup) (3.0.51)\n",
      "Requirement already satisfied: pygments>=2.4.0 in d:\\dev\\my-linkedin-posts\\.venv\\lib\\site-packages (from ipython<9.0,>=8.18->aisetup) (2.19.2)\n",
      "Requirement already satisfied: stack_data in d:\\dev\\my-linkedin-posts\\.venv\\lib\\site-packages (from ipython<9.0,>=8.18->aisetup) (0.6.3)\n",
      "Requirement already satisfied: traitlets>=5.13.0 in d:\\dev\\my-linkedin-posts\\.venv\\lib\\site-packages (from ipython<9.0,>=8.18->aisetup) (5.14.3)\n",
      "Requirement already satisfied: comm>=0.1.3 in d:\\dev\\my-linkedin-posts\\.venv\\lib\\site-packages (from ipywidgets<9.0.0,>=8.1.3->aisetup) (0.2.2)\n",
      "Requirement already satisfied: widgetsnbextension~=4.0.14 in d:\\dev\\my-linkedin-posts\\.venv\\lib\\site-packages (from ipywidgets<9.0.0,>=8.1.3->aisetup) (4.0.14)\n",
      "Requirement already satisfied: jupyterlab_widgets~=3.0.15 in d:\\dev\\my-linkedin-posts\\.venv\\lib\\site-packages (from ipywidgets<9.0.0,>=8.1.3->aisetup) (3.0.15)\n",
      "Requirement already satisfied: contourpy>=1.0.1 in d:\\dev\\my-linkedin-posts\\.venv\\lib\\site-packages (from matplotlib<4.0.0,>=3.9.2->aisetup) (1.3.2)\n",
      "Requirement already satisfied: cycler>=0.10 in d:\\dev\\my-linkedin-posts\\.venv\\lib\\site-packages (from matplotlib<4.0.0,>=3.9.2->aisetup) (0.12.1)\n",
      "Requirement already satisfied: fonttools>=4.22.0 in d:\\dev\\my-linkedin-posts\\.venv\\lib\\site-packages (from matplotlib<4.0.0,>=3.9.2->aisetup) (4.58.5)\n",
      "Requirement already satisfied: kiwisolver>=1.3.1 in d:\\dev\\my-linkedin-posts\\.venv\\lib\\site-packages (from matplotlib<4.0.0,>=3.9.2->aisetup) (1.4.8)\n",
      "Requirement already satisfied: packaging>=20.0 in d:\\dev\\my-linkedin-posts\\.venv\\lib\\site-packages (from matplotlib<4.0.0,>=3.9.2->aisetup) (25.0)\n",
      "Requirement already satisfied: pillow>=8 in d:\\dev\\my-linkedin-posts\\.venv\\lib\\site-packages (from matplotlib<4.0.0,>=3.9.2->aisetup) (11.3.0)\n",
      "Requirement already satisfied: pyparsing>=2.3.1 in d:\\dev\\my-linkedin-posts\\.venv\\lib\\site-packages (from matplotlib<4.0.0,>=3.9.2->aisetup) (3.2.3)\n",
      "Requirement already satisfied: python-dateutil>=2.7 in d:\\dev\\my-linkedin-posts\\.venv\\lib\\site-packages (from matplotlib<4.0.0,>=3.9.2->aisetup) (2.9.0.post0)\n",
      "Requirement already satisfied: anyio<5,>=3.5.0 in d:\\dev\\my-linkedin-posts\\.venv\\lib\\site-packages (from openai<2.0,>=1.42->aisetup) (4.9.0)\n",
      "Requirement already satisfied: distro<2,>=1.7.0 in d:\\dev\\my-linkedin-posts\\.venv\\lib\\site-packages (from openai<2.0,>=1.42->aisetup) (1.9.0)\n",
      "Requirement already satisfied: httpx<1,>=0.23.0 in d:\\dev\\my-linkedin-posts\\.venv\\lib\\site-packages (from openai<2.0,>=1.42->aisetup) (0.28.1)\n",
      "Requirement already satisfied: jiter<1,>=0.4.0 in d:\\dev\\my-linkedin-posts\\.venv\\lib\\site-packages (from openai<2.0,>=1.42->aisetup) (0.10.0)\n",
      "Requirement already satisfied: pydantic<3,>=1.9.0 in d:\\dev\\my-linkedin-posts\\.venv\\lib\\site-packages (from openai<2.0,>=1.42->aisetup) (2.11.7)\n",
      "Requirement already satisfied: sniffio in d:\\dev\\my-linkedin-posts\\.venv\\lib\\site-packages (from openai<2.0,>=1.42->aisetup) (1.3.1)\n",
      "Requirement already satisfied: tqdm>4 in d:\\dev\\my-linkedin-posts\\.venv\\lib\\site-packages (from openai<2.0,>=1.42->aisetup) (4.67.1)\n",
      "Requirement already satisfied: typing-extensions<5,>=4.11 in d:\\dev\\my-linkedin-posts\\.venv\\lib\\site-packages (from openai<2.0,>=1.42->aisetup) (4.14.1)\n",
      "Requirement already satisfied: idna>=2.8 in d:\\dev\\my-linkedin-posts\\.venv\\lib\\site-packages (from anyio<5,>=3.5.0->openai<2.0,>=1.42->aisetup) (3.10)\n",
      "Requirement already satisfied: certifi in d:\\dev\\my-linkedin-posts\\.venv\\lib\\site-packages (from httpx<1,>=0.23.0->openai<2.0,>=1.42->aisetup) (2025.6.15)\n",
      "Requirement already satisfied: httpcore==1.* in d:\\dev\\my-linkedin-posts\\.venv\\lib\\site-packages (from httpx<1,>=0.23.0->openai<2.0,>=1.42->aisetup) (1.0.9)\n",
      "Requirement already satisfied: h11>=0.16 in d:\\dev\\my-linkedin-posts\\.venv\\lib\\site-packages (from httpcore==1.*->httpx<1,>=0.23.0->openai<2.0,>=1.42->aisetup) (0.16.0)\n",
      "Requirement already satisfied: pytz>=2020.1 in d:\\dev\\my-linkedin-posts\\.venv\\lib\\site-packages (from pandas<3.0,>=2.2->aisetup) (2025.2)\n",
      "Requirement already satisfied: tzdata>=2022.7 in d:\\dev\\my-linkedin-posts\\.venv\\lib\\site-packages (from pandas<3.0,>=2.2->aisetup) (2025.2)\n",
      "Requirement already satisfied: wcwidth in d:\\dev\\my-linkedin-posts\\.venv\\lib\\site-packages (from prompt_toolkit<3.1.0,>=3.0.41->ipython<9.0,>=8.18->aisetup) (0.2.13)\n",
      "Requirement already satisfied: annotated-types>=0.6.0 in d:\\dev\\my-linkedin-posts\\.venv\\lib\\site-packages (from pydantic<3,>=1.9.0->openai<2.0,>=1.42->aisetup) (0.7.0)\n",
      "Requirement already satisfied: pydantic-core==2.33.2 in d:\\dev\\my-linkedin-posts\\.venv\\lib\\site-packages (from pydantic<3,>=1.9.0->openai<2.0,>=1.42->aisetup) (2.33.2)\n",
      "Requirement already satisfied: typing-inspection>=0.4.0 in d:\\dev\\my-linkedin-posts\\.venv\\lib\\site-packages (from pydantic<3,>=1.9.0->openai<2.0,>=1.42->aisetup) (0.4.1)\n",
      "Requirement already satisfied: charset_normalizer<4,>=2 in d:\\dev\\my-linkedin-posts\\.venv\\lib\\site-packages (from requests<3.0.0,>=2.32.3->aisetup) (3.4.2)\n",
      "Requirement already satisfied: urllib3<3,>=1.21.1 in d:\\dev\\my-linkedin-posts\\.venv\\lib\\site-packages (from requests<3.0.0,>=2.32.3->aisetup) (2.5.0)\n",
      "Requirement already satisfied: parso<0.9.0,>=0.8.4 in d:\\dev\\my-linkedin-posts\\.venv\\lib\\site-packages (from jedi>=0.16->ipython<9.0,>=8.18->aisetup) (0.8.4)\n",
      "Requirement already satisfied: MarkupSafe>=2.0 in d:\\dev\\my-linkedin-posts\\.venv\\lib\\site-packages (from jinja2>=2.9->folium<0.18,>=0.17->aisetup) (3.0.2)\n",
      "Requirement already satisfied: six>=1.5 in d:\\dev\\my-linkedin-posts\\.venv\\lib\\site-packages (from python-dateutil>=2.7->matplotlib<4.0.0,>=3.9.2->aisetup) (1.17.0)\n",
      "Requirement already satisfied: executing>=1.2.0 in d:\\dev\\my-linkedin-posts\\.venv\\lib\\site-packages (from stack_data->ipython<9.0,>=8.18->aisetup) (2.2.0)\n",
      "Requirement already satisfied: asttokens>=2.1.0 in d:\\dev\\my-linkedin-posts\\.venv\\lib\\site-packages (from stack_data->ipython<9.0,>=8.18->aisetup) (3.0.0)\n",
      "Requirement already satisfied: pure-eval in d:\\dev\\my-linkedin-posts\\.venv\\lib\\site-packages (from stack_data->ipython<9.0,>=8.18->aisetup) (0.2.3)\n",
      "Note: you may need to restart the kernel to use updated packages.\n",
      "Requirement already satisfied: ipython in d:\\dev\\my-linkedin-posts\\.venv\\lib\\site-packages (8.37.0)\n",
      "Requirement already satisfied: colorama in d:\\dev\\my-linkedin-posts\\.venv\\lib\\site-packages (from ipython) (0.4.6)\n",
      "Requirement already satisfied: decorator in d:\\dev\\my-linkedin-posts\\.venv\\lib\\site-packages (from ipython) (5.2.1)\n",
      "Requirement already satisfied: jedi>=0.16 in d:\\dev\\my-linkedin-posts\\.venv\\lib\\site-packages (from ipython) (0.19.2)\n",
      "Requirement already satisfied: matplotlib-inline in d:\\dev\\my-linkedin-posts\\.venv\\lib\\site-packages (from ipython) (0.1.7)\n",
      "Requirement already satisfied: prompt_toolkit<3.1.0,>=3.0.41 in d:\\dev\\my-linkedin-posts\\.venv\\lib\\site-packages (from ipython) (3.0.51)\n",
      "Requirement already satisfied: pygments>=2.4.0 in d:\\dev\\my-linkedin-posts\\.venv\\lib\\site-packages (from ipython) (2.19.2)\n",
      "Requirement already satisfied: stack_data in d:\\dev\\my-linkedin-posts\\.venv\\lib\\site-packages (from ipython) (0.6.3)\n",
      "Requirement already satisfied: traitlets>=5.13.0 in d:\\dev\\my-linkedin-posts\\.venv\\lib\\site-packages (from ipython) (5.14.3)\n",
      "Requirement already satisfied: wcwidth in d:\\dev\\my-linkedin-posts\\.venv\\lib\\site-packages (from prompt_toolkit<3.1.0,>=3.0.41->ipython) (0.2.13)\n",
      "Requirement already satisfied: parso<0.9.0,>=0.8.4 in d:\\dev\\my-linkedin-posts\\.venv\\lib\\site-packages (from jedi>=0.16->ipython) (0.8.4)\n",
      "Requirement already satisfied: executing>=1.2.0 in d:\\dev\\my-linkedin-posts\\.venv\\lib\\site-packages (from stack_data->ipython) (2.2.0)\n",
      "Requirement already satisfied: asttokens>=2.1.0 in d:\\dev\\my-linkedin-posts\\.venv\\lib\\site-packages (from stack_data->ipython) (3.0.0)\n",
      "Requirement already satisfied: pure-eval in d:\\dev\\my-linkedin-posts\\.venv\\lib\\site-packages (from stack_data->ipython) (0.2.3)\n",
      "Note: you may need to restart the kernel to use updated packages.\n"
     ]
    }
   ],
   "source": [
    "%pip install aisetup\n",
    "from aisetup import get_llm_response\n",
    "\n",
    "%pip install ipython\n",
    "from IPython.display import display, Markdown"
   ]
  },
  {
   "cell_type": "code",
   "execution_count": 2,
   "id": "26c3e2fe",
   "metadata": {},
   "outputs": [
    {
     "data": {
      "text/markdown": [
       "The \"Zen of Python\" is a collection of guiding principles for writing computer programs in the Python language. It was authored by Tim Peters. The principles emphasize simplicity, readability, and the importance of explicitness in code.\n",
       "\n",
       "To generate it yourself, you can run the following command in a Python interpreter:\n",
       "\n",
       "```python\n",
       "import this\n",
       "```\n",
       "\n",
       "Here is the full text of the \"Zen of Python\":\n",
       "\n",
       "```\n",
       "Beautiful is better than ugly.\n",
       "Explicit is better than implicit.\n",
       "Simple is better than complex.\n",
       "Complex is better than complicated.\n",
       "Flat is better than nested.\n",
       "Sparse is better than dense.\n",
       "Readability counts.\n",
       "Special cases aren't special enough to break the rules.\n",
       "Although practicality beats purity.\n",
       "Errors should never pass silently.\n",
       "Unless explicitly silenced.\n",
       "In the face of ambiguity, refuse the temptation to guess.\n",
       "There should be one-- and preferably only one --obvious way to do it.\n",
       "Although that way may not be obvious at first unless you're Dutch.\n",
       "Now is better than never.\n",
       "Although never is often better than right now.\n",
       "If the implementation is hard to explain, it's a bad idea.\n",
       "If the implementation is easy to explain, it may be a good idea.\n",
       "Namespaces are one honking great idea -- let's do more of those!\n",
       "```"
      ],
      "text/plain": [
       "<IPython.core.display.Markdown object>"
      ]
     },
     "metadata": {},
     "output_type": "display_data"
    }
   ],
   "source": [
    "prompt = \"\"\"\n",
    "What is the \"Zen of Python\"? Include a brief summary of it, including who wrote it.\n",
    "[Tell me how to generate it myself, but don't just do that.\n",
    " Include the full text of it, but only once (not twice as you've done before).]\n",
    "\"\"\"\n",
    "response = get_llm_response(prompt) # Prompts and gets a response from gpt-4o-mini\n",
    "display(Markdown(response))"
   ]
  },
  {
   "cell_type": "markdown",
   "id": "abca6592",
   "metadata": {},
   "source": [
    "<div style=\"text-align: center; font-size:48px; color: #C36433;\">Yes</div>"
   ]
  }
 ],
 "metadata": {
  "kernelspec": {
   "display_name": ".venv (3.13.3)",
   "language": "python",
   "name": "python3"
  },
  "language_info": {
   "codemirror_mode": {
    "name": "ipython",
    "version": 3
   },
   "file_extension": ".py",
   "mimetype": "text/x-python",
   "name": "python",
   "nbconvert_exporter": "python",
   "pygments_lexer": "ipython3",
   "version": "3.13.3"
  }
 },
 "nbformat": 4,
 "nbformat_minor": 5
}
